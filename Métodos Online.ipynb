{
 "cells": [
  {
   "cell_type": "code",
   "execution_count": null,
   "id": "7d6c716d",
   "metadata": {},
   "outputs": [],
   "source": [
    "%run ./Obter_Dados_Com_Embeddings.ipynb"
   ]
  },
  {
   "cell_type": "code",
   "execution_count": 115,
   "id": "dda4e010",
   "metadata": {},
   "outputs": [],
   "source": [
    "import sklearn\n",
    "from sklearn.naive_bayes import MultinomialNB\n",
    "from sklearn.naive_bayes import BernoulliNB\n",
    "from sklearn.linear_model import Perceptron\n",
    "from sklearn.linear_model import SGDClassifier\n",
    "from sklearn.linear_model import PassiveAggressiveClassifier\n",
    "from sklearn.neural_network import MLPClassifier\n",
    "from sklearn.metrics import accuracy_score\n",
    "from sklearn.model_selection import train_test_split\n",
    "from sklearn.metrics import classification_report\n",
    "from sklearn.preprocessing import MinMaxScaler"
   ]
  },
  {
   "cell_type": "code",
   "execution_count": null,
   "id": "a7d3cb4a",
   "metadata": {},
   "outputs": [],
   "source": [
    "setTreino, setTeste, targetTreino, targetTeste = train_test_split(datasetEmb, target, test_size=0.30, random_state=0)\n",
    "setTreino.shape, setTeste.shape, targetTreino.shape, targetTeste.shape"
   ]
  },
  {
   "cell_type": "code",
   "execution_count": 117,
   "id": "97fc7271",
   "metadata": {},
   "outputs": [],
   "source": [
    "def LimitarEntreZeroUm(treino, teste):\n",
    "    treinoVal = []\n",
    "    testeVal = []\n",
    "    scaler = MinMaxScaler()\n",
    "    \n",
    "    for i in range(treino.shape[0]):\n",
    "        treinoVal.append(scaler.fit_transform(treino[i]))\n",
    "        \n",
    "    for i in range(teste.shape[0]):\n",
    "        testeVal.append(scaler.transform(teste[i]))\n",
    "    \n",
    "    return np.array(treinoVal), np.array(testeVal)"
   ]
  },
  {
   "cell_type": "code",
   "execution_count": null,
   "id": "8691b44a",
   "metadata": {},
   "outputs": [],
   "source": [
    "setTreino, setTeste = setTreino.reshape(-1, 163, 203), setTeste.reshape(-1, 163, 203)\n",
    "targetTreino, targetTeste = targetTreino.reshape(-1, 163), targetTeste.reshape(-1, 163)\n",
    "\n",
    "setTreino.shape, setTeste.shape, targetTreino.shape, targetTeste.shape"
   ]
  },
  {
   "cell_type": "code",
   "execution_count": 119,
   "id": "eb7e2528",
   "metadata": {},
   "outputs": [],
   "source": [
    "multinomialNB = MultinomialNB()\n",
    "bernoulliNB = BernoulliNB()\n",
    "perceptron = Perceptron(random_state=0, max_iter=30)\n",
    "passiveAggressive = PassiveAggressiveClassifier(max_iter=1000, random_state=0)\n",
    "MLP = MLPClassifier(random_state=0, max_iter=300)\n",
    "sgdc = SGDClassifier(random_state=0)"
   ]
  },
  {
   "cell_type": "code",
   "execution_count": null,
   "id": "b16a767c",
   "metadata": {},
   "outputs": [],
   "source": [
    "models = [\n",
    "    ('MultinomialNB', multinomialNB),\n",
    "    ('BernoulliNB', bernoulliNB),\n",
    "    ('Perceptron', perceptron),\n",
    "    ('Passive Aggressive Classifier', passiveAggressive),\n",
    "    ('MLPClassifier', MLP),\n",
    "    ('SGDClassifier', sgdc)\n",
    "]\n",
    "\n",
    "dataFrames = []\n",
    "results = []\n",
    "nomes = []\n",
    "scoring = ['accuracy', 'precision_weighted', 'recall_weighted', 'f1_weighted', 'roc_auc']\n",
    "\n",
    "for nome, model in models:\n",
    "    kfold = model_selection.KFold(n_splits=5, shuffle=True, random_state=0)\n",
    "    \n",
    "    if nome == 'MultinomialNB':\n",
    "        setTreinoVal, setTesteVal = LimitarEntreZeroUm(setTreino, setTeste)\n",
    "    else:\n",
    "        setTreinoVal, setTesteVal = setTreino, setTeste\n",
    "    \n",
    "    cv_results = model_selection.cross_validate(model, setTreinoVal.reshape(-1, 203), targetTreino.reshape(-1), cv=kfold, scoring=scoring)\n",
    "    \n",
    "    epochs = 10\n",
    "\n",
    "    for k in range(epochs):\n",
    "        for i in range(setTreinoVal.shape[0]):\n",
    "            setBatch, targetBatch = setTreinoVal[i], targetTreino[i]\n",
    "            model.partial_fit(setBatch, targetBatch, classes=classes)\n",
    "            \n",
    "    predicoes = []\n",
    "    for j in range(setTesteVal.shape[0]):\n",
    "        predicao = model.predict(setTesteVal[j])\n",
    "        predicoes.extend(predicao.tolist())\n",
    "    \n",
    "    print(nome)\n",
    "    print(classification_report(targetTeste.reshape(-1), predicoes, target_names=classes))\n",
    "    \n",
    "    results.append(cv_results)\n",
    "    nomes.append(nome)\n",
    "    \n",
    "    dataFrameResultado = pd.DataFrame(cv_results)\n",
    "    dataFrameResultado['model'] = nome\n",
    "    dataFrames.append(dataFrameResultado)\n",
    "    \n",
    "resultadosFinais = pd.concat(dataFrames, ignore_index=True)\n",
    "\n",
    "print(resultadosFinais)"
   ]
  },
  {
   "cell_type": "code",
   "execution_count": null,
   "id": "fd04ace0",
   "metadata": {},
   "outputs": [],
   "source": []
  }
 ],
 "metadata": {
  "kernelspec": {
   "display_name": "Python 3 (ipykernel)",
   "language": "python",
   "name": "python3"
  },
  "language_info": {
   "codemirror_mode": {
    "name": "ipython",
    "version": 3
   },
   "file_extension": ".py",
   "mimetype": "text/x-python",
   "name": "python",
   "nbconvert_exporter": "python",
   "pygments_lexer": "ipython3",
   "version": "3.9.7"
  }
 },
 "nbformat": 4,
 "nbformat_minor": 5
}
