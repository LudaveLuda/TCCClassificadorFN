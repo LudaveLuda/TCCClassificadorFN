{
 "cells": [
  {
   "cell_type": "code",
   "execution_count": null,
   "id": "ce7f42b1",
   "metadata": {},
   "outputs": [],
   "source": [
    "%run ./Obter_Dados_Com_Embeddings.ipynb"
   ]
  },
  {
   "cell_type": "code",
   "execution_count": 70,
   "id": "64a69966",
   "metadata": {},
   "outputs": [],
   "source": [
    "import sklearn\n",
    "from sklearn.linear_model import Perceptron\n",
    "from sklearn.neural_network import MLPClassifier\n",
    "from sklearn.tree import DecisionTreeClassifier\n",
    "from sklearn.ensemble import RandomForestClassifier\n",
    "from sklearn.ensemble import BaggingClassifier\n",
    "from sklearn.ensemble import AdaBoostClassifier\n",
    "from sklearn.metrics import classification_report"
   ]
  },
  {
   "cell_type": "code",
   "execution_count": 71,
   "id": "1e37cd80",
   "metadata": {},
   "outputs": [],
   "source": [
    "from sklearn.model_selection import train_test_split\n",
    "\n",
    "setTreino, setTeste, targetTreino, targetTeste = train_test_split(datasetEmb, target, test_size=0.30, random_state=0)"
   ]
  },
  {
   "cell_type": "code",
   "execution_count": null,
   "id": "fe5d6f28",
   "metadata": {},
   "outputs": [],
   "source": [
    "import sklearn\n",
    "from sklearn.linear_model import Perceptron\n",
    "\n",
    "# criando um novo perceptron\n",
    "perceptron = Perceptron(random_state=0, max_iter=30)\n",
    "\n",
    "# treina o classificador com os dados de treinameto\n",
    "perceptron.fit(setTreino, targetTreino) \n",
    " \n",
    "# classifica os dados de teste\n",
    "predicao = perceptron.predict(setTeste) \n",
    "        \n",
    "print('\\nPredição obtida para as 20 primeiras amostras de teste:\\n', predicao[0:20])"
   ]
  },
  {
   "cell_type": "code",
   "execution_count": null,
   "id": "87e5e7af",
   "metadata": {},
   "outputs": [],
   "source": [
    "resultados = sklearn.metrics.classification_report(targetTeste, predicao, target_names=classes)\n",
    "\n",
    "print(resultados)"
   ]
  },
  {
   "cell_type": "code",
   "execution_count": 74,
   "id": "b1b4ef37",
   "metadata": {},
   "outputs": [],
   "source": [
    "perceptron = Perceptron(random_state=0, max_iter=30)\n",
    "mlpClassifier = MLPClassifier(random_state=0, max_iter=80)\n",
    "decisionTree = DecisionTreeClassifier(criterion = 'entropy', random_state=0)\n",
    "randomForest = RandomForestClassifier(random_state=0, criterion = 'entropy')\n",
    "bagging = BaggingClassifier(random_state=0)\n",
    "adaboost = AdaBoostClassifier(random_state=0)"
   ]
  },
  {
   "cell_type": "code",
   "execution_count": null,
   "id": "28b6ab1e",
   "metadata": {},
   "outputs": [],
   "source": [
    "models = [\n",
    "    ('Perceptron', perceptron),\n",
    "    ('MultilayerPerceptron', mlpClassifier),\n",
    "    ('DecisionTree', decisionTree),\n",
    "    ('RandomForest', randomForest),\n",
    "    ('Bagging', bagging),\n",
    "    ('AdaBoost', adaboost)\n",
    "]\n",
    "\n",
    "dataFrames = []\n",
    "results = []\n",
    "nomes = []\n",
    "scoring = ['accuracy', 'precision_weighted', 'recall_weighted', 'f1_weighted', 'roc_auc']\n",
    "\n",
    "for nome, model in models:\n",
    "    kfold = model_selection.KFold(n_splits=5, shuffle=True, random_state=0)\n",
    "    cv_results = model_selection.cross_validate(model, setTreino, targetTreino, cv=kfold, scoring=scoring)\n",
    "    clf = model.fit(setTreino, targetTreino)\n",
    "    predicao = clf.predict(setTeste)\n",
    "    \n",
    "    print(nome)\n",
    "    print(classification_report(targetTeste, predicao, target_names=classes))\n",
    "    \n",
    "    results.append(cv_results)\n",
    "    nomes.append(nome)\n",
    "    \n",
    "    dataFrameResultado = pd.DataFrame(cv_results)\n",
    "    dataFrameResultado['model'] = nome\n",
    "    dataFrames.append(dataFrameResultado)\n",
    "    \n",
    "resultadosFinais = pd.concat(dataFrames, ignore_index=True)\n",
    "\n",
    "print(resultadosFinais)"
   ]
  },
  {
   "cell_type": "code",
   "execution_count": null,
   "id": "ef37b994",
   "metadata": {},
   "outputs": [],
   "source": []
  }
 ],
 "metadata": {
  "kernelspec": {
   "display_name": "Python 3 (ipykernel)",
   "language": "python",
   "name": "python3"
  },
  "language_info": {
   "codemirror_mode": {
    "name": "ipython",
    "version": 3
   },
   "file_extension": ".py",
   "mimetype": "text/x-python",
   "name": "python",
   "nbconvert_exporter": "python",
   "pygments_lexer": "ipython3",
   "version": "3.9.7"
  }
 },
 "nbformat": 4,
 "nbformat_minor": 5
}
