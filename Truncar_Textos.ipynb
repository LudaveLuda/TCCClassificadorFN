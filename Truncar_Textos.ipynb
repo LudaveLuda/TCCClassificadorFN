{
 "cells": [
  {
   "cell_type": "code",
   "execution_count": null,
   "id": "42abc08c",
   "metadata": {},
   "outputs": [],
   "source": [
    "%run ./Coletar_Dados.ipynb"
   ]
  },
  {
   "cell_type": "code",
   "execution_count": 12,
   "id": "b7f34736",
   "metadata": {},
   "outputs": [],
   "source": [
    "os.chdir(globals()['_dh'][0])"
   ]
  },
  {
   "cell_type": "code",
   "execution_count": 13,
   "id": "9f292d66",
   "metadata": {},
   "outputs": [],
   "source": [
    "def ImportDatasetToArray(pathDataset):\n",
    "    dataset = []\n",
    "    \n",
    "    with open(pathDataset, newline='', encoding='utf-8-sig') as csvfile:\n",
    "        reader = csv.reader(csvfile, delimiter=';')\n",
    "        next(reader, None)\n",
    "        \n",
    "        for row in reader:\n",
    "            dataset.append(row)\n",
    "            \n",
    "    return dataset"
   ]
  },
  {
   "cell_type": "code",
   "execution_count": 14,
   "id": "d00aa0d0",
   "metadata": {},
   "outputs": [],
   "source": [
    "def ImportDatasetToArrayFakeBr(dirDataset, dirMetaDataset, tipo):\n",
    "    dataset = []\n",
    "    \n",
    "    os.chdir(dirDataset)\n",
    "    for i, file in zip(range(len(os.listdir())), os.listdir()):\n",
    "        row = []\n",
    "        file = open(file, 'r', encoding='utf-8-sig')\n",
    "        row.append(i)\n",
    "        row.append(file.read())\n",
    "        dataset.append(row)\n",
    "        \n",
    "    os.chdir(dirMetaDataset)\n",
    "    for i, file in zip(range(len(os.listdir())), os.listdir()):\n",
    "        file = open(file, 'r', encoding='utf-8-sig')\n",
    "        lines = file.readlines()\n",
    "        data = ObterData(lines[3])\n",
    "        dataset[i] = dataset[i] + data + [lines[1]]\n",
    "            \n",
    "    return dataset"
   ]
  },
  {
   "cell_type": "code",
   "execution_count": 15,
   "id": "3b93a48f",
   "metadata": {},
   "outputs": [],
   "source": [
    "def TruncateText(text, length):\n",
    "    truncated = ''\n",
    "    \n",
    "    for word in text.split():\n",
    "        truncated += word\n",
    "        \n",
    "        if len(truncated) >= length:\n",
    "            return truncated\n",
    "        \n",
    "        truncated += ' '"
   ]
  },
  {
   "cell_type": "code",
   "execution_count": 16,
   "id": "78d23efc",
   "metadata": {},
   "outputs": [],
   "source": [
    "datasetTrue = ImportDatasetToArray('./input/data/true.csv')\n",
    "datasetFake = ImportDatasetToArray('./input/data/fake.csv')\n",
    "\n",
    "datasetTrue = np.asarray(datasetTrue)\n",
    "datasetFake = np.asarray(datasetFake)"
   ]
  },
  {
   "cell_type": "code",
   "execution_count": 17,
   "id": "696c1815",
   "metadata": {},
   "outputs": [],
   "source": [
    "for i in range(len(datasetTrue)):\n",
    "    minLen = min(len(datasetTrue[i][1]), len(datasetFake[i][1]))\n",
    "    \n",
    "    if len(datasetTrue[i][1]) != minLen:\n",
    "        datasetTrue[i][1] = TruncateText(datasetTrue[i][1], minLen)\n",
    "        \n",
    "    if len(datasetFake[i][1]) != minLen:\n",
    "        datasetFake[i][1] = TruncateText(datasetFake[i][1], minLen)"
   ]
  },
  {
   "cell_type": "code",
   "execution_count": 18,
   "id": "c40ecb52",
   "metadata": {},
   "outputs": [],
   "source": [
    "os.chdir(globals()['_dh'][0])"
   ]
  },
  {
   "cell_type": "code",
   "execution_count": 19,
   "id": "ecf452f1",
   "metadata": {},
   "outputs": [],
   "source": [
    "import pandas as pd\n",
    "dataset = pd.DataFrame(datasetTrue)\n",
    "dataset.to_csv('./input/data/textos_truncados/true.csv', sep=';', index = False, encoding = 'utf-8-sig')"
   ]
  },
  {
   "cell_type": "code",
   "execution_count": 20,
   "id": "69d04525",
   "metadata": {},
   "outputs": [],
   "source": [
    "import pandas as pd\n",
    "dataset = pd.DataFrame(datasetFake)\n",
    "dataset.to_csv('./input/data/textos_truncados/fake.csv', sep=';', index = False, encoding = 'utf-8-sig')"
   ]
  },
  {
   "cell_type": "code",
   "execution_count": null,
   "id": "6d207514",
   "metadata": {},
   "outputs": [],
   "source": []
  }
 ],
 "metadata": {
  "kernelspec": {
   "display_name": "Python 3 (ipykernel)",
   "language": "python",
   "name": "python3"
  },
  "language_info": {
   "codemirror_mode": {
    "name": "ipython",
    "version": 3
   },
   "file_extension": ".py",
   "mimetype": "text/x-python",
   "name": "python",
   "nbconvert_exporter": "python",
   "pygments_lexer": "ipython3",
   "version": "3.9.7"
  }
 },
 "nbformat": 4,
 "nbformat_minor": 5
}
