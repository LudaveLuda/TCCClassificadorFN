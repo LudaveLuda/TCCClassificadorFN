{
 "cells": [
  {
   "cell_type": "code",
   "execution_count": null,
   "id": "dee11d71",
   "metadata": {},
   "outputs": [],
   "source": [
    "%run ./Obter_Dados_Com_Embeddings.ipynb"
   ]
  },
  {
   "cell_type": "code",
   "execution_count": 45,
   "id": "15766121",
   "metadata": {},
   "outputs": [],
   "source": [
    "import sklearn\n",
    "from sklearn.naive_bayes import MultinomialNB\n",
    "from sklearn.naive_bayes import BernoulliNB\n",
    "from sklearn.linear_model import Perceptron\n",
    "from sklearn.linear_model import SGDClassifier\n",
    "from sklearn.linear_model import PassiveAggressiveClassifier\n",
    "from sklearn.neural_network import MLPClassifier\n",
    "from sklearn.tree import DecisionTreeClassifier\n",
    "from sklearn.ensemble import RandomForestClassifier\n",
    "from sklearn.ensemble import BaggingClassifier\n",
    "from sklearn.ensemble import AdaBoostClassifier\n",
    "from sklearn.metrics import accuracy_score\n",
    "from sklearn.model_selection import train_test_split\n",
    "from sklearn.metrics import classification_report\n",
    "from sklearn.preprocessing import MinMaxScaler\n",
    "import pandas as pd\n",
    "import random"
   ]
  },
  {
   "cell_type": "code",
   "execution_count": 46,
   "id": "ac808f07",
   "metadata": {},
   "outputs": [],
   "source": [
    "def LimitarEntreZeroUm(treino, teste):\n",
    "    scaler = MinMaxScaler()\n",
    "    return scaler.fit_transform(treino), scaler.fit_transform(teste)"
   ]
  },
  {
   "cell_type": "code",
   "execution_count": 47,
   "id": "1734f2df",
   "metadata": {},
   "outputs": [],
   "source": [
    "def unison_shuffled_copies(a, b):\n",
    "    assert len(a) == len(b)\n",
    "    p = np.random.permutation(len(a))\n",
    "    return a[p], b[p]"
   ]
  },
  {
   "cell_type": "code",
   "execution_count": 48,
   "id": "50c65809",
   "metadata": {},
   "outputs": [],
   "source": [
    "def ValidarModeloOnline(model, nome):\n",
    "    if nome == 'MultinomialNB':\n",
    "        setTreinoVal, setTesteVal = LimitarEntreZeroUm(setTreino, setTeste)\n",
    "    else:\n",
    "        setTreinoVal, setTesteVal = setTreino, setTeste\n",
    "\n",
    "    setTreinoOff, setTesteOff, targetTreinoOff, targetTesteOff = train_test_split(setTreinoVal, targetTreino, test_size=0.30, random_state=0, shuffle=False)   \n",
    "        \n",
    "    model.fit(setTreinoOff, targetTreinoOff)\n",
    "    predicoes = model.predict(setTesteOff)\n",
    "    \n",
    "    print('Dataset FakeBr')\n",
    "    print(nome)\n",
    "    print(classification_report(targetTesteOff, predicoes, target_names=classes))\n",
    "    \n",
    "    setTreinoOn, setTesteOn, targetTreinoOn, targetTesteOn = train_test_split(setTesteVal, targetTeste, test_size=0.30, random_state=0, shuffle=False)   \n",
    "    qtdIter = 5\n",
    "    \n",
    "    #model.partial_fit(setTreinoOn, targetTreinoOn, classes=classes)\n",
    "    \n",
    "    predicao = model.predict(setTreinoOn)\n",
    "    \n",
    "    for i, pred in zip(range(len(predicao)), predicao):\n",
    "        if pred != targetTreinoIter[i]:\n",
    "                model.partial_fit(setTreinoOn[i].reshape(1, -1), targetTreinoOn[i].reshape(-1), classes=classes)\n",
    "                \n",
    "    #for nrIter in range(qtdIter):\n",
    "    #    setTreinoIter, targetTreinoIter = unison_shuffled_copies(setTreinoOn, targetTreinoOn)\n",
    "    #    predicao = model.predict(setTreinoIter)\n",
    "    #    for i, pred in zip(range(len(predicao)), predicao):\n",
    "    #        if pred != targetTreinoIter[i]:\n",
    "    #            model.partial_fit(setTreinoIter[i].reshape(1, -1), targetTreinoIter[i].reshape(-1), classes=classes)\n",
    "            \n",
    "    predicoes = model.predict(setTesteOn)\n",
    "    \n",
    "    print('Dataset Novo')\n",
    "    print(nome)\n",
    "    print(classification_report(targetTesteOn, predicoes, target_names=classes))"
   ]
  },
  {
   "cell_type": "code",
   "execution_count": 49,
   "id": "2b0cd830",
   "metadata": {},
   "outputs": [],
   "source": [
    "def ValidarModeloOnline(model, nome):\n",
    "    if nome == 'MultinomialNB':\n",
    "        setTreinoVal, setTesteVal = LimitarEntreZeroUm(setTreino, setTeste)\n",
    "    else:\n",
    "        setTreinoVal, setTesteVal = setTreino, setTeste\n",
    "\n",
    "    setTreinoOff, setTesteOff, targetTreinoOff, targetTesteOff = train_test_split(setTreinoVal, targetTreino, test_size=0.30, random_state=0, shuffle=False)   \n",
    "        \n",
    "    model.fit(setTreinoOff, targetTreinoOff)\n",
    "    predicoes = model.predict(setTesteOff)\n",
    "    \n",
    "    print('Dataset FakeBr')\n",
    "    print(nome)\n",
    "    print(classification_report(targetTesteOff, predicoes, target_names=classes))\n",
    "    \n",
    "    #model.partial_fit(setTreinoOn, targetTreinoOn, classes=classes)\n",
    "    \n",
    "    predicoes = []\n",
    "    \n",
    "    for i in range(len(setTesteVal)):\n",
    "        pred = model.predict(setTesteVal[i].reshape(1, -1))\n",
    "        \n",
    "        predicoes.append(pred)\n",
    "        \n",
    "        if pred != targetTeste[i]:\n",
    "            model.partial_fit(setTesteVal[i].reshape(1, -1), targetTeste[i].reshape(-1), classes=classes)\n",
    "    \n",
    "    print('Dataset Novo')\n",
    "    print(nome)\n",
    "    print(classification_report(targetTeste, predicoes, target_names=classes))"
   ]
  },
  {
   "cell_type": "code",
   "execution_count": 50,
   "id": "4cf3af2a",
   "metadata": {},
   "outputs": [],
   "source": [
    "def ValidarModeloOffline(model, nome):\n",
    "    setTreinoOff, setTesteOff, targetTreinoOff, targetTesteOff = train_test_split(setTreino, targetTreino, test_size=0.30, random_state=0, shuffle=False)   \n",
    "    \n",
    "    clf = model.fit(setTreinoOff, targetTreinoOff)\n",
    "    predicao = clf.predict(setTesteOff)\n",
    "    \n",
    "    print('Dataset FakeBr')\n",
    "    print(nome)\n",
    "    print(classification_report(targetTesteOff, predicao, target_names=classes))\n",
    "    \n",
    "    predicao = clf.predict(setTeste)\n",
    "    \n",
    "    print('Dataset novo')\n",
    "    print(nome)\n",
    "    print(classification_report(targetTeste, predicao, target_names=classes))"
   ]
  },
  {
   "cell_type": "code",
   "execution_count": 51,
   "id": "a22ba319",
   "metadata": {},
   "outputs": [],
   "source": [
    "def RealizarTestesOnline():\n",
    "    multinomialNB = MultinomialNB()\n",
    "    perceptron = Perceptron(random_state=0, max_iter=30)\n",
    "    passiveAggressive = PassiveAggressiveClassifier(max_iter=1000, random_state=0)\n",
    "    MLP = MLPClassifier(random_state=0, max_iter=300)\n",
    "    sgdc = SGDClassifier(random_state=0)\n",
    "\n",
    "    modelsOnline = [\n",
    "        ('MultinomialNB', multinomialNB),\n",
    "        ('Perceptron', perceptron),\n",
    "        ('Passive Aggressive Classifier', passiveAggressive),\n",
    "        ('MLPClassifier', MLP),\n",
    "        ('SGDClassifier', sgdc)\n",
    "    ]\n",
    "    \n",
    "    for nome, model in modelsOnline:\n",
    "        ValidarModeloOnline(model, nome)"
   ]
  },
  {
   "cell_type": "code",
   "execution_count": 52,
   "id": "06648303",
   "metadata": {},
   "outputs": [],
   "source": [
    "def RealizarTestesOffline():\n",
    "    perceptron = Perceptron(random_state=0, max_iter=30)\n",
    "    mlpClassifier = MLPClassifier(random_state=0, max_iter=80)\n",
    "    decisionTree = DecisionTreeClassifier(criterion = 'entropy', random_state=0)\n",
    "    randomForest = RandomForestClassifier(random_state=0, criterion = 'entropy')\n",
    "    bagging = BaggingClassifier(random_state=0)\n",
    "    adaboost = AdaBoostClassifier(random_state=0)\n",
    "\n",
    "    modelsOffline = [\n",
    "        ('Perceptron', perceptron),\n",
    "        ('MultilayerPerceptron', mlpClassifier),\n",
    "        ('DecisionTree', decisionTree),\n",
    "        ('RandomForest', randomForest),\n",
    "        ('Bagging', bagging),\n",
    "        ('AdaBoost', adaboost)\n",
    "    ]\n",
    "    \n",
    "    for nome, model in modelsOffline:\n",
    "        ValidarModeloOffline(model, nome)"
   ]
  },
  {
   "cell_type": "code",
   "execution_count": 53,
   "id": "8bc9c279",
   "metadata": {},
   "outputs": [
    {
     "data": {
      "text/plain": [
       "((7200, 200), (3260, 200), (7200,), (3260,))"
      ]
     },
     "execution_count": 53,
     "metadata": {},
     "output_type": "execute_result"
    }
   ],
   "source": [
    "setTreino, targetTreino = dataset2VecBr, targetBr\n",
    "setTeste, targetTeste = dataset2Vec, target\n",
    "\n",
    "setTreino.shape, setTeste.shape, targetTreino.shape, targetTeste.shape"
   ]
  },
  {
   "cell_type": "code",
   "execution_count": null,
   "id": "bcc1c6bb",
   "metadata": {
    "scrolled": false
   },
   "outputs": [],
   "source": [
    "print('============== TESTES ONLINE ==============')\n",
    "RealizarTestesOnline()\n",
    "\n",
    "print('============== TESTES OFFLINE ==============')\n",
    "RealizarTestesOffline()"
   ]
  },
  {
   "cell_type": "code",
   "execution_count": null,
   "id": "ddf86e25",
   "metadata": {},
   "outputs": [],
   "source": [
    "setTreino, targetTreino = datasetFastBr, targetBr\n",
    "setTeste, targetTeste = datasetFast, target\n",
    "\n",
    "setTreino.shape, setTeste.shape, targetTreino.shape, targetTeste.shape"
   ]
  },
  {
   "cell_type": "code",
   "execution_count": null,
   "id": "8378d88f",
   "metadata": {
    "scrolled": false
   },
   "outputs": [],
   "source": [
    "print('============== TESTES ONLINE ==============')\n",
    "RealizarTestesOnline()\n",
    "\n",
    "print('============== TESTES OFFLINE ==============')\n",
    "RealizarTestesOffline()"
   ]
  },
  {
   "cell_type": "code",
   "execution_count": null,
   "id": "dc5be8bc",
   "metadata": {},
   "outputs": [],
   "source": [
    "setTreino, targetTreino = datasetBowBr, targetBr\n",
    "setTeste, targetTeste = datasetBow, target\n",
    "\n",
    "setTreino.shape, setTeste.shape, targetTreino.shape, targetTeste.shape"
   ]
  },
  {
   "cell_type": "code",
   "execution_count": null,
   "id": "9c2b2197",
   "metadata": {
    "scrolled": false
   },
   "outputs": [],
   "source": [
    "print('============== TESTES ONLINE ==============')\n",
    "RealizarTestesOnline()\n",
    "\n",
    "print('============== TESTES OFFLINE ==============')\n",
    "RealizarTestesOffline()"
   ]
  },
  {
   "cell_type": "code",
   "execution_count": null,
   "id": "edbaa584",
   "metadata": {},
   "outputs": [],
   "source": [
    "setTreino, targetTreino = dataset2VecNorm, targetNorm\n",
    "setTeste, targetTeste = dataset2Vec, target\n",
    "\n",
    "setTreino.shape, setTeste.shape, targetTreino.shape, targetTeste.shape"
   ]
  },
  {
   "cell_type": "code",
   "execution_count": null,
   "id": "fe1193de",
   "metadata": {
    "scrolled": false
   },
   "outputs": [],
   "source": [
    "print('============== TESTES ONLINE ==============')\n",
    "RealizarTestesOnline()\n",
    "\n",
    "print('============== TESTES OFFLINE ==============')\n",
    "RealizarTestesOffline()"
   ]
  },
  {
   "cell_type": "code",
   "execution_count": null,
   "id": "ba18326f",
   "metadata": {},
   "outputs": [],
   "source": [
    "setTreino, targetTreino = datasetFastNorm, targetNorm\n",
    "setTeste, targetTeste = datasetFast, target\n",
    "\n",
    "setTreino.shape, setTeste.shape, targetTreino.shape, targetTeste.shape"
   ]
  },
  {
   "cell_type": "code",
   "execution_count": null,
   "id": "a6962fa4",
   "metadata": {
    "scrolled": false
   },
   "outputs": [],
   "source": [
    "print('============== TESTES ONLINE ==============')\n",
    "RealizarTestesOnline()\n",
    "\n",
    "print('============== TESTES OFFLINE ==============')\n",
    "RealizarTestesOffline()"
   ]
  },
  {
   "cell_type": "code",
   "execution_count": null,
   "id": "93317a44",
   "metadata": {},
   "outputs": [],
   "source": [
    "setTreino, targetTreino = datasetBowNorm, targetNorm\n",
    "setTeste, targetTeste = datasetBow, target\n",
    "\n",
    "setTreino.shape, setTeste.shape, targetTreino.shape, targetTeste.shape"
   ]
  },
  {
   "cell_type": "code",
   "execution_count": null,
   "id": "9d69a050",
   "metadata": {
    "scrolled": false
   },
   "outputs": [],
   "source": [
    "print('============== TESTES ONLINE ==============')\n",
    "RealizarTestesOnline()\n",
    "\n",
    "print('============== TESTES OFFLINE ==============')\n",
    "RealizarTestesOffline()"
   ]
  },
  {
   "cell_type": "code",
   "execution_count": 65,
   "id": "df43f488",
   "metadata": {},
   "outputs": [
    {
     "data": {
      "text/plain": [
       "((7200, 200), (3260, 200), (7200,), (3260,))"
      ]
     },
     "execution_count": 65,
     "metadata": {},
     "output_type": "execute_result"
    }
   ],
   "source": [
    "setTreino, targetTreino = dataset2VecNorm, targetNorm\n",
    "setTeste, targetTeste = dataset2VecTrun, targetTrun\n",
    "\n",
    "setTreino.shape, setTeste.shape, targetTreino.shape, targetTeste.shape"
   ]
  },
  {
   "cell_type": "code",
   "execution_count": null,
   "id": "f623c1db",
   "metadata": {
    "scrolled": false
   },
   "outputs": [],
   "source": [
    "print('============== TESTES ONLINE ==============')\n",
    "RealizarTestesOnline()\n",
    "\n",
    "print('============== TESTES OFFLINE ==============')\n",
    "RealizarTestesOffline()"
   ]
  },
  {
   "cell_type": "code",
   "execution_count": null,
   "id": "9534b5fa",
   "metadata": {},
   "outputs": [],
   "source": [
    "setTreino, targetTreino = datasetFastNorm, targetNorm\n",
    "setTeste, targetTeste = datasetFastTrun, targetTrun\n",
    "\n",
    "setTreino.shape, setTeste.shape, targetTreino.shape, targetTeste.shape"
   ]
  },
  {
   "cell_type": "code",
   "execution_count": null,
   "id": "b1300aea",
   "metadata": {
    "scrolled": false
   },
   "outputs": [],
   "source": [
    "print('============== TESTES ONLINE ==============')\n",
    "RealizarTestesOnline()\n",
    "\n",
    "print('============== TESTES OFFLINE ==============')\n",
    "RealizarTestesOffline()"
   ]
  },
  {
   "cell_type": "code",
   "execution_count": null,
   "id": "09d03031",
   "metadata": {},
   "outputs": [],
   "source": [
    "setTreino, targetTreino = datasetBowNorm, targetNorm\n",
    "setTeste, targetTeste = datasetBowTrun, targetTrun\n",
    "\n",
    "setTreino.shape, setTeste.shape, targetTreino.shape, targetTeste.shape"
   ]
  },
  {
   "cell_type": "code",
   "execution_count": null,
   "id": "98443ec5",
   "metadata": {
    "scrolled": false
   },
   "outputs": [],
   "source": [
    "print('============== TESTES ONLINE ==============')\n",
    "RealizarTestesOnline()\n",
    "\n",
    "print('============== TESTES OFFLINE ==============')\n",
    "RealizarTestesOffline()"
   ]
  }
 ],
 "metadata": {
  "kernelspec": {
   "display_name": "Python 3 (ipykernel)",
   "language": "python",
   "name": "python3"
  },
  "language_info": {
   "codemirror_mode": {
    "name": "ipython",
    "version": 3
   },
   "file_extension": ".py",
   "mimetype": "text/x-python",
   "name": "python",
   "nbconvert_exporter": "python",
   "pygments_lexer": "ipython3",
   "version": "3.11.4"
  }
 },
 "nbformat": 4,
 "nbformat_minor": 5
}
